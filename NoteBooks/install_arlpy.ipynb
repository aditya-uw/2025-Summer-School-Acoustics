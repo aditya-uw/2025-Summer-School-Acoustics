{
 "cells": [
  {
   "cell_type": "markdown",
   "id": "0bf227da-c835-45dc-888b-b7a7c65935a8",
   "metadata": {},
   "source": [
    "# Getting arlpy working\n",
    "\n",
    "## download AT\n",
    "download acoustics toolbox. You should install it in a seperate folder than the summer school repository.\n",
    "\n",
    "In terminal:\n",
    "```bash\n",
    "cd ~\n",
    "wget http://oalib.hlsresearch.com/AcousticsToolbox/at_2024_12_25.zip\n",
    "unzip at_2024_12_25.zip\n",
    "\n",
    "```\n",
    "\n",
    "## compile acoustic toolbox:\n",
    "\n",
    "- first we need to change some of the compile flags in the make file. Open at/MakeFile, and find the section that says `export FFLAGS= -mcpu=apple-m2 -Bstatic -Waliasing -Wampersand`\n",
    "- change `export FFLAGS= -mcpu=apple-m2` to `-mcpu=native`\n",
    "- now you can compile AcousticToolbox\n",
    "```bash\n",
    "cd at\n",
    "make\n",
    "```\n",
    "\n",
    "## add bellhop binary to path\n",
    "open the bashrc file. This is a file that is run every time you open a new terminal.\n",
    "```bash\n",
    "nano ~/.bashrc\n",
    "```\n",
    "\n",
    "add the following to the bottom of the bashrc file. This addes the Bellhop directory to the path\n",
    "```bashrc\n",
    "# >>> add Bellhop to path\n",
    "export PATH=$PATH:/home/jovyan/at/Bellhop\n",
    "# <<< add Bellhop to path\n",
    "```\n",
    "\n",
    "exit out of nano with `ctrl-c` and select to save your changes `y`, then hit enter.\n",
    "\n",
    "Reload your bashrc file ```source ~/.bashrc```.\n",
    "\n",
    "Now the terminal sould be able to find the bellhop.exe program. If you type `which bellhop.exe`, you should see something like:\n",
    "```bash\n",
    "jovyan@jupyter-<user>:~$ which bellhop.exe\n",
    "/home/jovyan/at/Bellhop/bellhop.exe\n",
    "```"
   ]
  },
  {
   "cell_type": "markdown",
   "id": "d8785de2-857f-4201-878d-977e99d7e0de",
   "metadata": {},
   "source": [
    "## install arlpy"
   ]
  },
  {
   "cell_type": "code",
   "execution_count": 1,
   "id": "60ee9d2a-7f44-47ee-bfaf-95764f3d4bac",
   "metadata": {},
   "outputs": [
    {
     "name": "stdout",
     "output_type": "stream",
     "text": [
      "Collecting arlpy\n",
      "  Downloading arlpy-1.9.1.tar.gz (45 kB)\n",
      "  Preparing metadata (setup.py) ... \u001b[?25ldone\n",
      "\u001b[?25hRequirement already satisfied: numpy>=1.24.0 in /opt/conda/lib/python3.12/site-packages (from arlpy) (2.0.2)\n",
      "Collecting numpy>=1.24.0 (from arlpy)\n",
      "  Downloading numpy-1.26.4-cp312-cp312-manylinux_2_17_x86_64.manylinux2014_x86_64.whl.metadata (61 kB)\n",
      "Requirement already satisfied: scipy>=1.13.0 in /opt/conda/lib/python3.12/site-packages (from arlpy) (1.14.1)\n",
      "Collecting scipy>=1.13.0 (from arlpy)\n",
      "  Downloading scipy-1.13.1-cp312-cp312-manylinux_2_17_x86_64.manylinux2014_x86_64.whl.metadata (60 kB)\n",
      "Collecting utm>=0.7.0 (from arlpy)\n",
      "  Downloading utm-0.8.1-py3-none-any.whl.metadata (5.2 kB)\n",
      "Requirement already satisfied: pandas>=1.5.0 in /opt/conda/lib/python3.12/site-packages (from arlpy) (2.2.3)\n",
      "Requirement already satisfied: bokeh>=3.0.0 in /opt/conda/lib/python3.12/site-packages (from arlpy) (3.6.0)\n",
      "Requirement already satisfied: Jinja2>=2.9 in /opt/conda/lib/python3.12/site-packages (from bokeh>=3.0.0->arlpy) (3.1.4)\n",
      "Requirement already satisfied: contourpy>=1.2 in /opt/conda/lib/python3.12/site-packages (from bokeh>=3.0.0->arlpy) (1.3.0)\n",
      "Requirement already satisfied: packaging>=16.8 in /opt/conda/lib/python3.12/site-packages (from bokeh>=3.0.0->arlpy) (24.1)\n",
      "Requirement already satisfied: pillow>=7.1.0 in /opt/conda/lib/python3.12/site-packages (from bokeh>=3.0.0->arlpy) (11.0.0)\n",
      "Requirement already satisfied: PyYAML>=3.10 in /opt/conda/lib/python3.12/site-packages (from bokeh>=3.0.0->arlpy) (6.0.2)\n",
      "Requirement already satisfied: tornado>=6.2 in /opt/conda/lib/python3.12/site-packages (from bokeh>=3.0.0->arlpy) (6.4.1)\n",
      "Requirement already satisfied: xyzservices>=2021.09.1 in /opt/conda/lib/python3.12/site-packages (from bokeh>=3.0.0->arlpy) (2024.9.0)\n",
      "Requirement already satisfied: python-dateutil>=2.8.2 in /opt/conda/lib/python3.12/site-packages (from pandas>=1.5.0->arlpy) (2.9.0)\n",
      "Requirement already satisfied: pytz>=2020.1 in /opt/conda/lib/python3.12/site-packages (from pandas>=1.5.0->arlpy) (2024.1)\n",
      "Requirement already satisfied: tzdata>=2022.7 in /opt/conda/lib/python3.12/site-packages (from pandas>=1.5.0->arlpy) (2024.2)\n",
      "Requirement already satisfied: MarkupSafe>=2.0 in /opt/conda/lib/python3.12/site-packages (from Jinja2>=2.9->bokeh>=3.0.0->arlpy) (3.0.2)\n",
      "Requirement already satisfied: six>=1.5 in /opt/conda/lib/python3.12/site-packages (from python-dateutil>=2.8.2->pandas>=1.5.0->arlpy) (1.16.0)\n",
      "Downloading numpy-1.26.4-cp312-cp312-manylinux_2_17_x86_64.manylinux2014_x86_64.whl (18.0 MB)\n",
      "\u001b[2K   \u001b[90m━━━━━━━━━━━━━━━━━━━━━━━━━━━━━━━━━━━━━━━━\u001b[0m \u001b[32m18.0/18.0 MB\u001b[0m \u001b[31m50.9 MB/s\u001b[0m eta \u001b[36m0:00:00\u001b[0m:00:01\u001b[0m\n",
      "\u001b[?25hDownloading scipy-1.13.1-cp312-cp312-manylinux_2_17_x86_64.manylinux2014_x86_64.whl (38.2 MB)\n",
      "\u001b[2K   \u001b[90m━━━━━━━━━━━━━━━━━━━━━━━━━━━━━━━━━━━━━━━━\u001b[0m \u001b[32m38.2/38.2 MB\u001b[0m \u001b[31m107.8 MB/s\u001b[0m eta \u001b[36m0:00:00\u001b[0m00:01\u001b[0m\n",
      "\u001b[?25hDownloading utm-0.8.1-py3-none-any.whl (8.6 kB)\n",
      "Building wheels for collected packages: arlpy\n",
      "  Building wheel for arlpy (setup.py) ... \u001b[?25ldone\n",
      "\u001b[?25h  Created wheel for arlpy: filename=arlpy-1.9.1-py3-none-any.whl size=50634 sha256=1c382f1a6d136f5e9bd14641c05c05bd097c28464e016f391373212689719f8a\n",
      "  Stored in directory: /home/jovyan/.cache/pip/wheels/f5/b2/97/d94ab6a9297676c8f685c96af9c853bf45b20dc2e17436a358\n",
      "Successfully built arlpy\n",
      "Installing collected packages: utm, numpy, scipy, arlpy\n",
      "  Attempting uninstall: numpy\n",
      "    Found existing installation: numpy 2.0.2\n",
      "    Uninstalling numpy-2.0.2:\n",
      "      Successfully uninstalled numpy-2.0.2\n",
      "  Attempting uninstall: scipy\n",
      "    Found existing installation: scipy 1.14.1\n",
      "    Uninstalling scipy-1.14.1:\n",
      "      Successfully uninstalled scipy-1.14.1\n",
      "Successfully installed arlpy-1.9.1 numpy-1.26.4 scipy-1.13.1 utm-0.8.1\n",
      "Note: you may need to restart the kernel to use updated packages.\n"
     ]
    }
   ],
   "source": [
    "%pip install arlpy"
   ]
  },
  {
   "cell_type": "code",
   "execution_count": 3,
   "id": "e83d7988-c27f-413a-821d-bbdf95caaf87",
   "metadata": {},
   "outputs": [],
   "source": [
    "import arlpy.uwapm as pm\n",
    "import arlpy.plot as plt\n",
    "import numpy as np\n",
    "import os"
   ]
  },
  {
   "cell_type": "code",
   "execution_count": 4,
   "id": "d3ab48e2-362e-44c4-9e42-9cb95ac0d196",
   "metadata": {},
   "outputs": [
    {
     "name": "stderr",
     "output_type": "stream",
     "text": [
      "sh: 1: source: not found\n"
     ]
    },
    {
     "data": {
      "text/plain": [
       "32512"
      ]
     },
     "execution_count": 4,
     "metadata": {},
     "output_type": "execute_result"
    }
   ],
   "source": [
    "os.system('source ~/.bashrc')"
   ]
  },
  {
   "cell_type": "code",
   "execution_count": 2,
   "id": "98bee194-506d-4ee1-a2ba-3f95afc94426",
   "metadata": {},
   "outputs": [
    {
     "data": {
      "text/plain": [
       "[]"
      ]
     },
     "execution_count": 2,
     "metadata": {},
     "output_type": "execute_result"
    }
   ],
   "source": [
    "pm.models()"
   ]
  },
  {
   "cell_type": "code",
   "execution_count": null,
   "id": "d9be05ee-8d16-44c0-b1c9-5189964cd456",
   "metadata": {},
   "outputs": [],
   "source": []
  }
 ],
 "metadata": {
  "kernelspec": {
   "display_name": "Python (ooi_acoustics)",
   "language": "python",
   "name": "ooi_acoustics"
  },
  "language_info": {
   "codemirror_mode": {
    "name": "ipython",
    "version": 3
   },
   "file_extension": ".py",
   "mimetype": "text/x-python",
   "name": "python",
   "nbconvert_exporter": "python",
   "pygments_lexer": "ipython3",
   "version": "3.12.10"
  }
 },
 "nbformat": 4,
 "nbformat_minor": 5
}
